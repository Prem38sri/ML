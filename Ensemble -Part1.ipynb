{
 "cells": [
  {
   "cell_type": "code",
   "execution_count": 1,
   "metadata": {},
   "outputs": [],
   "source": [
    "#import libraries\n",
    "\n",
    "import numpy as np\n",
    "import pandas as pd\n",
    "import seaborn as sns\n",
    "import matplotlib.pyplot as plt\n",
    "from sklearn.ensemble import RandomForestClassifier,VotingClassifier,AdaBoostClassifier,BaggingClassifier\n",
    "from sklearn.model_selection import cross_val_score\n",
    "from sklearn.linear_model import SGDClassifier\n",
    "from sklearn.neighbors import KNeighborsClassifier\n",
    "from sklearn.naive_bayes import GaussianNB\n",
    "from sklearn.linear_model import Perceptron\n",
    "from sklearn.tree import DecisionTreeClassifier\n",
    "from sklearn.linear_model import LogisticRegression\n",
    "from sklearn import svm\n",
    "from sklearn.neural_network import MLPClassifier"
   ]
  },
  {
   "cell_type": "code",
   "execution_count": 2,
   "metadata": {},
   "outputs": [],
   "source": [
    "ds=pd.read_csv('C://Users/user/Downloads/train.csv')"
   ]
  },
  {
   "cell_type": "code",
   "execution_count": 3,
   "metadata": {},
   "outputs": [
    {
     "name": "stdout",
     "output_type": "stream",
     "text": [
      "<class 'pandas.core.frame.DataFrame'>\n",
      "RangeIndex: 24169 entries, 0 to 24168\n",
      "Data columns (total 26 columns):\n",
      "Unnamed: 0                    24169 non-null int64\n",
      "ID                            24169 non-null int64\n",
      "LIMIT_BAL                     24169 non-null int64\n",
      "SEX                           24169 non-null int64\n",
      "EDUCATION                     24169 non-null int64\n",
      "MARRIAGE                      24169 non-null int64\n",
      "AGE                           24169 non-null int64\n",
      "PAY_0                         24169 non-null int64\n",
      "PAY_2                         24169 non-null int64\n",
      "PAY_3                         24169 non-null int64\n",
      "PAY_4                         24169 non-null int64\n",
      "PAY_5                         24169 non-null int64\n",
      "PAY_6                         24169 non-null int64\n",
      "BILL_AMT1                     24169 non-null int64\n",
      "BILL_AMT2                     24169 non-null int64\n",
      "BILL_AMT3                     24169 non-null int64\n",
      "BILL_AMT4                     24169 non-null int64\n",
      "BILL_AMT5                     24169 non-null int64\n",
      "BILL_AMT6                     24169 non-null int64\n",
      "PAY_AMT1                      24169 non-null int64\n",
      "PAY_AMT2                      24169 non-null int64\n",
      "PAY_AMT3                      24169 non-null int64\n",
      "PAY_AMT4                      24169 non-null int64\n",
      "PAY_AMT5                      24169 non-null int64\n",
      "PAY_AMT6                      24169 non-null int64\n",
      "default payment next month    24169 non-null int64\n",
      "dtypes: int64(26)\n",
      "memory usage: 4.8 MB\n"
     ]
    }
   ],
   "source": [
    "ds.info()"
   ]
  },
  {
   "cell_type": "code",
   "execution_count": 4,
   "metadata": {},
   "outputs": [
    {
     "data": {
      "text/html": [
       "<div>\n",
       "<style scoped>\n",
       "    .dataframe tbody tr th:only-of-type {\n",
       "        vertical-align: middle;\n",
       "    }\n",
       "\n",
       "    .dataframe tbody tr th {\n",
       "        vertical-align: top;\n",
       "    }\n",
       "\n",
       "    .dataframe thead th {\n",
       "        text-align: right;\n",
       "    }\n",
       "</style>\n",
       "<table border=\"1\" class=\"dataframe\">\n",
       "  <thead>\n",
       "    <tr style=\"text-align: right;\">\n",
       "      <th></th>\n",
       "      <th>Unnamed: 0</th>\n",
       "      <th>ID</th>\n",
       "      <th>LIMIT_BAL</th>\n",
       "      <th>SEX</th>\n",
       "      <th>EDUCATION</th>\n",
       "      <th>MARRIAGE</th>\n",
       "      <th>AGE</th>\n",
       "      <th>PAY_0</th>\n",
       "      <th>PAY_2</th>\n",
       "      <th>PAY_3</th>\n",
       "      <th>...</th>\n",
       "      <th>BILL_AMT4</th>\n",
       "      <th>BILL_AMT5</th>\n",
       "      <th>BILL_AMT6</th>\n",
       "      <th>PAY_AMT1</th>\n",
       "      <th>PAY_AMT2</th>\n",
       "      <th>PAY_AMT3</th>\n",
       "      <th>PAY_AMT4</th>\n",
       "      <th>PAY_AMT5</th>\n",
       "      <th>PAY_AMT6</th>\n",
       "      <th>default payment next month</th>\n",
       "    </tr>\n",
       "  </thead>\n",
       "  <tbody>\n",
       "    <tr>\n",
       "      <th>count</th>\n",
       "      <td>24169.000000</td>\n",
       "      <td>24169.000000</td>\n",
       "      <td>24169.000000</td>\n",
       "      <td>24169.000000</td>\n",
       "      <td>24169.000000</td>\n",
       "      <td>24169.000000</td>\n",
       "      <td>24169.000000</td>\n",
       "      <td>24169.000000</td>\n",
       "      <td>24169.000000</td>\n",
       "      <td>24169.000000</td>\n",
       "      <td>...</td>\n",
       "      <td>24169.000000</td>\n",
       "      <td>24169.000000</td>\n",
       "      <td>24169.000000</td>\n",
       "      <td>24169.000000</td>\n",
       "      <td>2.416900e+04</td>\n",
       "      <td>24169.000000</td>\n",
       "      <td>24169.000000</td>\n",
       "      <td>24169.000000</td>\n",
       "      <td>24169.000000</td>\n",
       "      <td>24169.000000</td>\n",
       "    </tr>\n",
       "    <tr>\n",
       "      <th>mean</th>\n",
       "      <td>15031.693161</td>\n",
       "      <td>15032.693161</td>\n",
       "      <td>167391.024867</td>\n",
       "      <td>1.605817</td>\n",
       "      <td>1.853076</td>\n",
       "      <td>1.550871</td>\n",
       "      <td>35.469444</td>\n",
       "      <td>-0.018453</td>\n",
       "      <td>-0.135504</td>\n",
       "      <td>-0.164963</td>\n",
       "      <td>...</td>\n",
       "      <td>43153.864372</td>\n",
       "      <td>40156.224585</td>\n",
       "      <td>38738.109603</td>\n",
       "      <td>5681.134759</td>\n",
       "      <td>5.942295e+03</td>\n",
       "      <td>5213.239935</td>\n",
       "      <td>4801.607017</td>\n",
       "      <td>4803.390128</td>\n",
       "      <td>5252.875047</td>\n",
       "      <td>0.218420</td>\n",
       "    </tr>\n",
       "    <tr>\n",
       "      <th>std</th>\n",
       "      <td>8661.614261</td>\n",
       "      <td>8661.614261</td>\n",
       "      <td>129519.754764</td>\n",
       "      <td>0.488685</td>\n",
       "      <td>0.790629</td>\n",
       "      <td>0.520981</td>\n",
       "      <td>9.193634</td>\n",
       "      <td>1.123273</td>\n",
       "      <td>1.195428</td>\n",
       "      <td>1.195498</td>\n",
       "      <td>...</td>\n",
       "      <td>64197.409775</td>\n",
       "      <td>60531.338697</td>\n",
       "      <td>59314.750357</td>\n",
       "      <td>16895.052567</td>\n",
       "      <td>2.331366e+04</td>\n",
       "      <td>16984.502935</td>\n",
       "      <td>15798.979087</td>\n",
       "      <td>15282.699900</td>\n",
       "      <td>17668.019737</td>\n",
       "      <td>0.413183</td>\n",
       "    </tr>\n",
       "    <tr>\n",
       "      <th>min</th>\n",
       "      <td>0.000000</td>\n",
       "      <td>1.000000</td>\n",
       "      <td>10000.000000</td>\n",
       "      <td>1.000000</td>\n",
       "      <td>0.000000</td>\n",
       "      <td>0.000000</td>\n",
       "      <td>21.000000</td>\n",
       "      <td>-2.000000</td>\n",
       "      <td>-2.000000</td>\n",
       "      <td>-2.000000</td>\n",
       "      <td>...</td>\n",
       "      <td>-170000.000000</td>\n",
       "      <td>-61372.000000</td>\n",
       "      <td>-339603.000000</td>\n",
       "      <td>0.000000</td>\n",
       "      <td>0.000000e+00</td>\n",
       "      <td>0.000000</td>\n",
       "      <td>0.000000</td>\n",
       "      <td>0.000000</td>\n",
       "      <td>0.000000</td>\n",
       "      <td>0.000000</td>\n",
       "    </tr>\n",
       "    <tr>\n",
       "      <th>25%</th>\n",
       "      <td>7555.000000</td>\n",
       "      <td>7556.000000</td>\n",
       "      <td>50000.000000</td>\n",
       "      <td>1.000000</td>\n",
       "      <td>1.000000</td>\n",
       "      <td>1.000000</td>\n",
       "      <td>28.000000</td>\n",
       "      <td>-1.000000</td>\n",
       "      <td>-1.000000</td>\n",
       "      <td>-1.000000</td>\n",
       "      <td>...</td>\n",
       "      <td>2360.000000</td>\n",
       "      <td>1776.000000</td>\n",
       "      <td>1256.000000</td>\n",
       "      <td>1000.000000</td>\n",
       "      <td>8.200000e+02</td>\n",
       "      <td>392.000000</td>\n",
       "      <td>295.000000</td>\n",
       "      <td>265.000000</td>\n",
       "      <td>150.000000</td>\n",
       "      <td>0.000000</td>\n",
       "    </tr>\n",
       "    <tr>\n",
       "      <th>50%</th>\n",
       "      <td>15049.000000</td>\n",
       "      <td>15050.000000</td>\n",
       "      <td>140000.000000</td>\n",
       "      <td>2.000000</td>\n",
       "      <td>2.000000</td>\n",
       "      <td>2.000000</td>\n",
       "      <td>34.000000</td>\n",
       "      <td>0.000000</td>\n",
       "      <td>0.000000</td>\n",
       "      <td>0.000000</td>\n",
       "      <td>...</td>\n",
       "      <td>18981.000000</td>\n",
       "      <td>18043.000000</td>\n",
       "      <td>16921.000000</td>\n",
       "      <td>2100.000000</td>\n",
       "      <td>2.005000e+03</td>\n",
       "      <td>1804.000000</td>\n",
       "      <td>1500.000000</td>\n",
       "      <td>1500.000000</td>\n",
       "      <td>1500.000000</td>\n",
       "      <td>0.000000</td>\n",
       "    </tr>\n",
       "    <tr>\n",
       "      <th>75%</th>\n",
       "      <td>22555.000000</td>\n",
       "      <td>22556.000000</td>\n",
       "      <td>240000.000000</td>\n",
       "      <td>2.000000</td>\n",
       "      <td>2.000000</td>\n",
       "      <td>2.000000</td>\n",
       "      <td>41.000000</td>\n",
       "      <td>0.000000</td>\n",
       "      <td>0.000000</td>\n",
       "      <td>0.000000</td>\n",
       "      <td>...</td>\n",
       "      <td>54078.000000</td>\n",
       "      <td>50147.000000</td>\n",
       "      <td>49062.000000</td>\n",
       "      <td>5006.000000</td>\n",
       "      <td>5.000000e+03</td>\n",
       "      <td>4504.000000</td>\n",
       "      <td>4000.000000</td>\n",
       "      <td>4026.000000</td>\n",
       "      <td>4001.000000</td>\n",
       "      <td>0.000000</td>\n",
       "    </tr>\n",
       "    <tr>\n",
       "      <th>max</th>\n",
       "      <td>29999.000000</td>\n",
       "      <td>30000.000000</td>\n",
       "      <td>800000.000000</td>\n",
       "      <td>2.000000</td>\n",
       "      <td>6.000000</td>\n",
       "      <td>3.000000</td>\n",
       "      <td>75.000000</td>\n",
       "      <td>8.000000</td>\n",
       "      <td>8.000000</td>\n",
       "      <td>8.000000</td>\n",
       "      <td>...</td>\n",
       "      <td>706864.000000</td>\n",
       "      <td>823540.000000</td>\n",
       "      <td>699944.000000</td>\n",
       "      <td>873552.000000</td>\n",
       "      <td>1.684259e+06</td>\n",
       "      <td>889043.000000</td>\n",
       "      <td>621000.000000</td>\n",
       "      <td>426529.000000</td>\n",
       "      <td>528666.000000</td>\n",
       "      <td>1.000000</td>\n",
       "    </tr>\n",
       "  </tbody>\n",
       "</table>\n",
       "<p>8 rows × 26 columns</p>\n",
       "</div>"
      ],
      "text/plain": [
       "         Unnamed: 0            ID      LIMIT_BAL           SEX     EDUCATION  \\\n",
       "count  24169.000000  24169.000000   24169.000000  24169.000000  24169.000000   \n",
       "mean   15031.693161  15032.693161  167391.024867      1.605817      1.853076   \n",
       "std     8661.614261   8661.614261  129519.754764      0.488685      0.790629   \n",
       "min        0.000000      1.000000   10000.000000      1.000000      0.000000   \n",
       "25%     7555.000000   7556.000000   50000.000000      1.000000      1.000000   \n",
       "50%    15049.000000  15050.000000  140000.000000      2.000000      2.000000   \n",
       "75%    22555.000000  22556.000000  240000.000000      2.000000      2.000000   \n",
       "max    29999.000000  30000.000000  800000.000000      2.000000      6.000000   \n",
       "\n",
       "           MARRIAGE           AGE         PAY_0         PAY_2         PAY_3  \\\n",
       "count  24169.000000  24169.000000  24169.000000  24169.000000  24169.000000   \n",
       "mean       1.550871     35.469444     -0.018453     -0.135504     -0.164963   \n",
       "std        0.520981      9.193634      1.123273      1.195428      1.195498   \n",
       "min        0.000000     21.000000     -2.000000     -2.000000     -2.000000   \n",
       "25%        1.000000     28.000000     -1.000000     -1.000000     -1.000000   \n",
       "50%        2.000000     34.000000      0.000000      0.000000      0.000000   \n",
       "75%        2.000000     41.000000      0.000000      0.000000      0.000000   \n",
       "max        3.000000     75.000000      8.000000      8.000000      8.000000   \n",
       "\n",
       "       ...      BILL_AMT4      BILL_AMT5      BILL_AMT6       PAY_AMT1  \\\n",
       "count  ...   24169.000000   24169.000000   24169.000000   24169.000000   \n",
       "mean   ...   43153.864372   40156.224585   38738.109603    5681.134759   \n",
       "std    ...   64197.409775   60531.338697   59314.750357   16895.052567   \n",
       "min    ... -170000.000000  -61372.000000 -339603.000000       0.000000   \n",
       "25%    ...    2360.000000    1776.000000    1256.000000    1000.000000   \n",
       "50%    ...   18981.000000   18043.000000   16921.000000    2100.000000   \n",
       "75%    ...   54078.000000   50147.000000   49062.000000    5006.000000   \n",
       "max    ...  706864.000000  823540.000000  699944.000000  873552.000000   \n",
       "\n",
       "           PAY_AMT2       PAY_AMT3       PAY_AMT4       PAY_AMT5  \\\n",
       "count  2.416900e+04   24169.000000   24169.000000   24169.000000   \n",
       "mean   5.942295e+03    5213.239935    4801.607017    4803.390128   \n",
       "std    2.331366e+04   16984.502935   15798.979087   15282.699900   \n",
       "min    0.000000e+00       0.000000       0.000000       0.000000   \n",
       "25%    8.200000e+02     392.000000     295.000000     265.000000   \n",
       "50%    2.005000e+03    1804.000000    1500.000000    1500.000000   \n",
       "75%    5.000000e+03    4504.000000    4000.000000    4026.000000   \n",
       "max    1.684259e+06  889043.000000  621000.000000  426529.000000   \n",
       "\n",
       "            PAY_AMT6  default payment next month  \n",
       "count   24169.000000                24169.000000  \n",
       "mean     5252.875047                    0.218420  \n",
       "std     17668.019737                    0.413183  \n",
       "min         0.000000                    0.000000  \n",
       "25%       150.000000                    0.000000  \n",
       "50%      1500.000000                    0.000000  \n",
       "75%      4001.000000                    0.000000  \n",
       "max    528666.000000                    1.000000  \n",
       "\n",
       "[8 rows x 26 columns]"
      ]
     },
     "execution_count": 4,
     "metadata": {},
     "output_type": "execute_result"
    }
   ],
   "source": [
    "ds.describe()"
   ]
  },
  {
   "cell_type": "code",
   "execution_count": 5,
   "metadata": {},
   "outputs": [
    {
     "data": {
      "text/plain": [
       "Unnamed: 0                    0\n",
       "ID                            0\n",
       "LIMIT_BAL                     0\n",
       "SEX                           0\n",
       "EDUCATION                     0\n",
       "MARRIAGE                      0\n",
       "AGE                           0\n",
       "PAY_0                         0\n",
       "PAY_2                         0\n",
       "PAY_3                         0\n",
       "PAY_4                         0\n",
       "PAY_5                         0\n",
       "PAY_6                         0\n",
       "BILL_AMT1                     0\n",
       "BILL_AMT2                     0\n",
       "BILL_AMT3                     0\n",
       "BILL_AMT4                     0\n",
       "BILL_AMT5                     0\n",
       "BILL_AMT6                     0\n",
       "PAY_AMT1                      0\n",
       "PAY_AMT2                      0\n",
       "PAY_AMT3                      0\n",
       "PAY_AMT4                      0\n",
       "PAY_AMT5                      0\n",
       "PAY_AMT6                      0\n",
       "default payment next month    0\n",
       "dtype: int64"
      ]
     },
     "execution_count": 5,
     "metadata": {},
     "output_type": "execute_result"
    }
   ],
   "source": [
    "ds.isnull().sum()"
   ]
  },
  {
   "cell_type": "code",
   "execution_count": 8,
   "metadata": {},
   "outputs": [
    {
     "data": {
      "text/plain": [
       "Text(0.5, 1.0, 'SEX v/s COUNT')"
      ]
     },
     "execution_count": 8,
     "metadata": {},
     "output_type": "execute_result"
    },
    {
     "data": {
      "image/png": "[encoded data removed]",
      "text/plain": [
       "<Figure size 432x288 with 1 Axes>"
      ]
     },
     "metadata": {
      "needs_background": "light"
     },
     "output_type": "display_data"
    }
   ],
   "source": [
    "# SEX VS COUNT plot\n",
    "ds['SEX'].hist()\n",
    "plt.xlabel('SEX')\n",
    "plt.ylabel('COUNT')\n",
    "plt.title('SEX v/s COUNT')"
   ]
  },
  {
   "cell_type": "markdown",
   "metadata": {},
   "source": [
    "# Number of Male credit holder is less than Female"
   ]
  },
  {
   "cell_type": "code",
   "execution_count": 9,
   "metadata": {},
   "outputs": [
    {
     "data": {
      "text/plain": [
       "Text(0.5, 1.0, 'Default Credit Card Clients - target value - data unbalance\\n (Default = 0, Not Default = 1)')"
      ]
     },
     "execution_count": 9,
     "metadata": {},
     "output_type": "execute_result"
    },
    {
     "data": {
      "image/png": "[encoded data removed]",
      "text/plain": [
       "<Figure size 432x288 with 1 Axes>"
      ]
     },
     "metadata": {
      "needs_background": "light"
     },
     "output_type": "display_data"
    }
   ],
   "source": [
    "# Defaulters vs Non Defaulters\n",
    "ds['default payment next month'].hist()\n",
    "plt.xlabel('DEFAULT_PAY')\n",
    "plt.ylabel('COUNT')\n",
    "plt.title('Default Credit Card Clients - target value - data unbalance\\n (Default = 0, Not Default = 1)')"
   ]
  },
  {
   "cell_type": "markdown",
   "metadata": {},
   "source": [
    "Percentage of Defaulters are smaller than the Non Defaulters in the given dataset"
   ]
  },
  {
   "cell_type": "code",
   "execution_count": 10,
   "metadata": {},
   "outputs": [
    {
     "data": {
      "text/plain": [
       "Text(0.5, 1.0, 'EDUCATION v/s COUNT')"
      ]
     },
     "execution_count": 10,
     "metadata": {},
     "output_type": "execute_result"
    },
    {
     "data": {
      "image/png": "[encoded data removed]",
      "text/plain": [
       "<Figure size 432x288 with 1 Axes>"
      ]
     },
     "metadata": {
      "needs_background": "light"
     },
     "output_type": "display_data"
    }
   ],
   "source": [
    "# Education vs count histogrme plot\n",
    "ds['EDUCATION'].hist()\n",
    "plt.xlabel('EDUCATION')\n",
    "plt.ylabel('COUNT')\n",
    "plt.title('EDUCATION v/s COUNT')"
   ]
  },
  {
   "cell_type": "markdown",
   "metadata": {},
   "source": [
    "More number of credit holders are university students followed by Graduates and then High school students"
   ]
  },
  {
   "cell_type": "code",
   "execution_count": 11,
   "metadata": {},
   "outputs": [
    {
     "data": {
      "text/plain": [
       "Text(0.5, 1.0, 'MARRIAGE v/s COUNT')"
      ]
     },
     "execution_count": 11,
     "metadata": {},
     "output_type": "execute_result"
    },
    {
     "data": {
      "image/png": "[encoded data removed]",
      "text/plain": [
       "<Figure size 432x288 with 1 Axes>"
      ]
     },
     "metadata": {
      "needs_background": "light"
     },
     "output_type": "display_data"
    }
   ],
   "source": [
    "# Marriage vs count histograme plot\n",
    "ds['MARRIAGE'].hist()\n",
    "plt.xlabel('MARRIAGE')\n",
    "plt.ylabel('COUNT')\n",
    "plt.title('MARRIAGE v/s COUNT')"
   ]
  },
  {
   "cell_type": "markdown",
   "metadata": {},
   "source": [
    "More number of credit cards holder are Married"
   ]
  },
  {
   "cell_type": "code",
   "execution_count": 12,
   "metadata": {},
   "outputs": [
    {
     "data": {
      "text/plain": [
       "<matplotlib.axes._subplots.AxesSubplot at 0x1c61e5056a0>"
      ]
     },
     "execution_count": 12,
     "metadata": {},
     "output_type": "execute_result"
    },
    {
     "data": {
      "image/png": "[encoded data removed]",
      "text/plain": [
       "<Figure size 432x288 with 1 Axes>"
      ]
     },
     "metadata": {
      "needs_background": "light"
     },
     "output_type": "display_data"
    }
   ],
   "source": [
    "# LIMIT Balance vs Gender plot\n",
    "sns.barplot(x='SEX',y='LIMIT_BAL',data=ds,hue='SEX')"
   ]
  },
  {
   "cell_type": "markdown",
   "metadata": {},
   "source": [
    "Average of Limit Balance gender wise, 1 - Male, 2 - Female . Here we can see that average of Limit Balance for Female is more than male"
   ]
  },
  {
   "cell_type": "code",
   "execution_count": 13,
   "metadata": {},
   "outputs": [
    {
     "data": {
      "text/plain": [
       "<matplotlib.axes._subplots.AxesSubplot at 0x1c61e595be0>"
      ]
     },
     "execution_count": 13,
     "metadata": {},
     "output_type": "execute_result"
    },
    {
     "data": {
      "image/png": "[encoded data removed]",
      "text/plain": [
       "<Figure size 432x288 with 1 Axes>"
      ]
     },
     "metadata": {
      "needs_background": "light"
     },
     "output_type": "display_data"
    }
   ],
   "source": [
    "# Checking the number of counts of defaulters and non defaulters genderwise\n",
    "\n",
    "sns.countplot(x='SEX', data=ds,hue=\"default payment next month\", palette=\"muted\")"
   ]
  },
  {
   "cell_type": "markdown",
   "metadata": {},
   "source": [
    "it is evident from the above output that females have overall less default payments wrt males\n",
    "\n",
    "Non-Defaults have a higher proportion of Females (Sex=2)"
   ]
  },
  {
   "cell_type": "code",
   "execution_count": 14,
   "metadata": {},
   "outputs": [
    {
     "data": {
      "text/plain": [
       "<matplotlib.axes._subplots.AxesSubplot at 0x1c61e5f6320>"
      ]
     },
     "execution_count": 14,
     "metadata": {},
     "output_type": "execute_result"
    },
    {
     "data": {
      "image/png": "[encoded data removed]",
      "text/plain": [
       "<Figure size 432x288 with 1 Axes>"
      ]
     },
     "metadata": {
      "needs_background": "light"
     },
     "output_type": "display_data"
    }
   ],
   "source": [
    "# Checking the number of counts of defaulters and non defaulters depending on marriage status\n",
    "sns.countplot(x=\"MARRIAGE\", data=ds,hue=\"default payment next month\", palette=\"muted\")"
   ]
  },
  {
   "cell_type": "markdown",
   "metadata": {},
   "source": [
    "From the above plot it is clear that those people who have marital status single have less default payment wrt married status people"
   ]
  },
  {
   "cell_type": "code",
   "execution_count": 15,
   "metadata": {},
   "outputs": [
    {
     "data": {
      "text/plain": [
       "<matplotlib.axes._subplots.AxesSubplot at 0x1c61e65a668>"
      ]
     },
     "execution_count": 15,
     "metadata": {},
     "output_type": "execute_result"
    },
    {
     "data": {
      "image/png": "[encoded data removed]",
      "text/plain": [
       "<Figure size 432x288 with 1 Axes>"
      ]
     },
     "metadata": {
      "needs_background": "light"
     },
     "output_type": "display_data"
    }
   ],
   "source": [
    "# Checking the number of counts of defaulters and non defaulters depending on education status\n",
    "sns.countplot(x=\"EDUCATION\", data=ds,hue=\"default payment next month\", palette=\"muted\")"
   ]
  },
  {
   "cell_type": "markdown",
   "metadata": {},
   "source": [
    "From the above plot it is clear that those people who are university students have less default payment wrt graduates and high school people"
   ]
  },
  {
   "cell_type": "markdown",
   "metadata": {},
   "source": [
    "# The below figure shows bar plot for each month payment status which show the count of defaulters and non-defaulter."
   ]
  },
  {
   "cell_type": "code",
   "execution_count": 16,
   "metadata": {},
   "outputs": [
    {
     "data": {
      "image/png": "[encoded data removed]",
      "text/plain": [
       "<Figure size 1296x576 with 6 Axes>"
      ]
     },
     "metadata": {
      "needs_background": "light"
     },
     "output_type": "display_data"
    }
   ],
   "source": [
    "#yellow bar is for defaulter(1) against red bar non-defaulter(0)\n",
    "pay_status_columns=['PAY_0', 'PAY_2','PAY_3', 'PAY_4', 'PAY_5', 'PAY_6']\n",
    "figure, ax = plt.subplots(2,3)\n",
    "figure.set_size_inches(18,8)\n",
    "\n",
    "\n",
    "for i in range(len(pay_status_columns)):\n",
    "    row,col = int(i/3), i%3\n",
    "\n",
    "    d  = ds[pay_status_columns[i]].value_counts()\n",
    "    x = ds[pay_status_columns[i]][(ds['default payment next month']==1)].value_counts()\n",
    "    ax[row,col].bar(d.index, d, align='center', color='red')\n",
    "    ax[row,col].bar(x.index, x, align='center', color='yellow', alpha=0.7)\n",
    "    ax[row,col].set_title(pay_status_columns[i])"
   ]
  },
  {
   "cell_type": "markdown",
   "metadata": {},
   "source": [
    "# The below histogram shows the distribution of payment amount for each month explicitly for defaulters and non-defaulters"
   ]
  },
  {
   "cell_type": "code",
   "execution_count": 17,
   "metadata": {},
   "outputs": [
    {
     "data": {
      "image/png": "[encoded data removed]",
      "text/plain": [
       "<Figure size 1296x576 with 6 Axes>"
      ]
     },
     "metadata": {
      "needs_background": "light"
     },
     "output_type": "display_data"
    }
   ],
   "source": [
    "#yellow color is for defaulter(1) against red color non-defaulter(0)\n",
    "pay_amt_columns = ['PAY_AMT1','PAY_AMT2', 'PAY_AMT3', 'PAY_AMT4', 'PAY_AMT5', 'PAY_AMT6']\n",
    "figure, ax = plt.subplots(3,2)\n",
    "figure.set_size_inches(18,8)\n",
    "\n",
    "\n",
    "for i in range(len(pay_amt_columns)):\n",
    "    row,col =  i%3, int(i/3)\n",
    "   \n",
    "    ax[row,col].hist(ds[pay_amt_columns[i]], 30, color ='red')\n",
    "    ax[row,col].hist(ds[pay_amt_columns[i]][(ds['default payment next month']==1)],30,color='yellow',alpha = 0.7)\n",
    "    ax[row,col].set_title(pay_amt_columns[i])\n",
    "    #adding scaling to make the graph more helpful\n",
    "    ax[row,col].set_yscale('log', nonposy='clip')\n",
    "plt.tight_layout()\n",
    "plt.show()"
   ]
  },
  {
   "cell_type": "markdown",
   "metadata": {},
   "source": [
    "# The below histogram shows the distribution of Bill amount generated for each month explicitly for defaulters and non-defaulters"
   ]
  },
  {
   "cell_type": "code",
   "execution_count": 18,
   "metadata": {},
   "outputs": [
    {
     "data": {
      "image/png": "[encoded data removed]",
      "text/plain": [
       "<Figure size 720x720 with 6 Axes>"
      ]
     },
     "metadata": {
      "needs_background": "light"
     },
     "output_type": "display_data"
    }
   ],
   "source": [
    "#yellow color is for defaulter(1) against red color is for non-defaulter(0)\n",
    "bill_atm_columns =  ['BILL_AMT1', 'BILL_AMT2','BILL_AMT3', 'BILL_AMT4', 'BILL_AMT5', 'BILL_AMT6']\n",
    "figure, ax = plt.subplots(3,2)\n",
    "figure.set_size_inches(10,10)\n",
    "\n",
    "\n",
    "for i in range(len(pay_status_columns)):\n",
    "    row,col =  i%3, int(i/3)\n",
    "   \n",
    "    ax[row,col].hist(ds[bill_atm_columns[i]], 20,rwidth=0.9, color ='red')\n",
    "    ax[row,col].hist(ds[bill_atm_columns[i]][(ds['default payment next month']==1)],20,rwidth=0.9,color='yellow',alpha = 0.7)\n",
    "    ax[row,col].set_title(bill_atm_columns[i])\n",
    "    #adding scaling to make the graph more helpful\n",
    "    ax[row,col].set_yscale('log', nonposy='clip')\n",
    "plt.tight_layout()\n",
    "plt.show()"
   ]
  },
  {
   "cell_type": "markdown",
   "metadata": {},
   "source": [
    "# Data Preprocessing ,Creating a training dataframe X from dataframe ds after dropping below columns. X will have only features. For label we are storing it in a y vector"
   ]
  },
  {
   "cell_type": "code",
   "execution_count": null,
   "metadata": {},
   "outputs": [],
   "source": [
    "X=ds.drop(labels=['default payment next month','Unnamed: 0','ID'],axis=1)\n",
    "X=X.rename(columns={'PAY_0':'PAY_1'})\n",
    "y=ds['default payment next month']\n",
    "X.columns\n",
    "#Z=Z.drop(['Unnamed: 0','ID'],axis=1)"
   ]
  },
  {
   "cell_type": "markdown",
   "metadata": {},
   "source": [
    "Education categories 0,5,6 are not describled hence creating a new category 'others' represented by number 4\n",
    "Marriage 0 category is not documented hence creating a new category 3"
   ]
  },
  {
   "cell_type": "code",
   "execution_count": null,
   "metadata": {},
   "outputs": [],
   "source": [
    "X.loc[(X['EDUCATION'] == 5) | (X['EDUCATION'] == 6) | (X['EDUCATION'] == 0), 'EDUCATION'] = 4\n",
    "X['EDUCATION'].unique()\n",
    "X.loc[X['MARRIAGE'] == 0, 'MARRIAGE'] = 3\n",
    "X['MARRIAGE'].unique()"
   ]
  },
  {
   "cell_type": "markdown",
   "metadata": {},
   "source": [
    "Categorizing money amount for smooth computation. Categorization changes over each 100000 , anything below 100000 is 0 and anything above 800000 is 8"
   ]
  },
  {
   "cell_type": "code",
   "execution_count": null,
   "metadata": {},
   "outputs": [],
   "source": [
    "cols=['LIMIT_BAL','BILL_AMT1','BILL_AMT2','BILL_AMT3','BILL_AMT4','BILL_AMT5','BILL_AMT6','PAY_AMT1','PAY_AMT2','PAY_AMT3','PAY_AMT4','PAY_AMT5','PAY_AMT6']\n",
    "for col in cols:\n",
    "    X.loc[(X[col] <= 100000),col] = 0\n",
    "    X.loc[(X[col] > 100000) & (X[col] <= 200000),col] = 1\n",
    "    X.loc[(X[col] > 200000) & (X[col] <= 300000),col] = 2\n",
    "    X.loc[(X[col] > 300000) & (X[col] <= 400000),col] = 3\n",
    "    X.loc[(X[col] > 400000) & (X[col] <= 500000),col] = 4\n",
    "    X.loc[(X[col] > 500000) & (X[col] <= 600000),col] = 5\n",
    "    X.loc[(X[col] > 600000) & (X[col] <= 700000),col] = 6\n",
    "    X.loc[(X[col] > 700000) & (X[col] <= 800000),col] = 7\n",
    "    X.loc[(X[col] > 800000),col] = 8"
   ]
  },
  {
   "cell_type": "markdown",
   "metadata": {},
   "source": [
    "# Trying Various classifier and checking their F1-score, using cross_val_score from sklearn.model_selection"
   ]
  },
  {
   "cell_type": "code",
   "execution_count": null,
   "metadata": {},
   "outputs": [],
   "source": [
    "#Random Forest\n",
    "\n",
    "\n",
    "rf = RandomForestClassifier(criterion = \"gini\", \n",
    "                                       min_samples_leaf = 1, \n",
    "                                       min_samples_split = 10,   \n",
    "                                       n_estimators=100, \n",
    "                                       max_features='auto', \n",
    "                                       oob_score=True, \n",
    "                                       random_state=1, \n",
    "                                       n_jobs=-1)\n",
    "rf.fit(X,y)\n",
    "scr=cross_val_score(rf,X,y,cv=10,scoring='f1')\n",
    "avg_scr=scr.sum()/10\n",
    "print(F\"F1 Score is { scr }\")\n",
    "print(F\"Average score is { avg_scr }\")"
   ]
  },
  {
   "cell_type": "code",
   "execution_count": null,
   "metadata": {},
   "outputs": [],
   "source": [
    "# SGD Classifier\n",
    "\n",
    "sgd = SGDClassifier(loss='log', penalty='l1', learning_rate='optimal',random_state=1,tol=0.001,max_iter=100)\n",
    "sgd.fit(X,y)\n",
    "scr=cross_val_score(sgd,X,y,cv=10,scoring='f1')\n",
    "avg_scr=scr.sum()/10\n",
    "print(F\"F1 Score is { scr }\")\n",
    "print(F\"Average score is { avg_scr }\")"
   ]
  },
  {
   "cell_type": "code",
   "execution_count": null,
   "metadata": {},
   "outputs": [],
   "source": [
    "#KNN\n",
    "\n",
    "knn = KNeighborsClassifier(n_neighbors = 9,n_jobs=-1,weights='uniform',algorithm='auto')\n",
    "knn.fit(X,y)\n",
    "scr=cross_val_score(knn,X,y,cv=10,scoring='f1')\n",
    "avg_scr=scr.sum()/10\n",
    "print(F\"F1 Score is { scr }\")\n",
    "print(F\"Average score is { avg_scr }\")"
   ]
  },
  {
   "cell_type": "code",
   "execution_count": null,
   "metadata": {},
   "outputs": [],
   "source": [
    "# Gaussian Naive Bayes\n",
    "\n",
    "gnb = GaussianNB(priors=None, var_smoothing=1e-09)\n",
    "gnb.fit(X,y)\n",
    "scr=cross_val_score(gnb,X,y,cv=10,scoring='f1')\n",
    "avg_scr=scr.sum()/10\n",
    "print(F\"F1 Score is { scr }\")\n",
    "print(F\"Average score is { avg_scr }\")"
   ]
  },
  {
   "cell_type": "code",
   "execution_count": null,
   "metadata": {},
   "outputs": [],
   "source": [
    "# Perceptron\n",
    "\n",
    "per = Perceptron(max_iter=20,tol=1e-3)\n",
    "per.fit(X,y)\n",
    "scr=cross_val_score(per,X,y,cv=10,scoring='f1')\n",
    "avg_scr=scr.sum()/10\n",
    "print(F\"F1 Score is { scr }\")\n",
    "print(F\"Average score is { avg_scr }\")"
   ]
  },
  {
   "cell_type": "code",
   "execution_count": null,
   "metadata": {},
   "outputs": [],
   "source": [
    "# Decision Tree\n",
    "\n",
    "dt=DecisionTreeClassifier(criterion='gini', splitter='best', max_depth=5, min_samples_split=2, min_samples_leaf=1)\n",
    "dt.fit(X,y)\n",
    "scr=cross_val_score(dt,X,y,cv=10,scoring='f1')\n",
    "avg_scr=scr.sum()/10\n",
    "print(F\"F1 Score is { scr }\")\n",
    "print(F\"Average score is { avg_scr }\")\n"
   ]
  },
  {
   "cell_type": "code",
   "execution_count": null,
   "metadata": {},
   "outputs": [],
   "source": [
    "#logistic Regressor\n",
    "\n",
    "lg=LogisticRegression(solver='lbfgs',max_iter=1000)\n",
    "lg.fit(X,y)\n",
    "scr=cross_val_score(lg,X,y,cv=10,scoring='f1')\n",
    "avg_scr=scr.sum()/10\n",
    "print(F\"F1 Score is { scr }\")\n",
    "print(F\"Average score is { avg_scr }\")"
   ]
  },
  {
   "cell_type": "code",
   "execution_count": null,
   "metadata": {},
   "outputs": [],
   "source": [
    "#SVM linear kernel\n",
    "\n",
    "cl=svm.SVC(kernel='linear')\n",
    "cl.fit(X,y)\n",
    "scr=cross_val_score(cl,X,y,cv=10,scoring='f1')\n",
    "avg_scr=scr.sum()/10\n",
    "print(F\"F1 Score is { scr }\")\n",
    "print(F\"Average score is { avg_scr }\")"
   ]
  },
  {
   "cell_type": "code",
   "execution_count": null,
   "metadata": {},
   "outputs": [],
   "source": [
    "#Neural Network\n",
    "\n",
    "mlpc=MLPClassifier(hidden_layer_sizes=(25,25,25),max_iter=500)\n",
    "mlpc.fit(X,y)\n",
    "scr=cross_val_score(mlpc,X,y,cv=10,scoring='f1')\n",
    "avg_scr=scr.sum()/10\n",
    "print(F\"F1 Score is { scr }\")\n",
    "print(F\"Average score is { avg_scr }\")"
   ]
  },
  {
   "cell_type": "markdown",
   "metadata": {},
   "source": [
    "# Bagging  performed with various base estimators"
   ]
  },
  {
   "cell_type": "code",
   "execution_count": null,
   "metadata": {},
   "outputs": [],
   "source": [
    "#Bagging\n",
    "\n",
    "bag=BaggingClassifier(GaussianNB(priors=None, var_smoothing=1e-09),max_samples=0.5,max_features=0.5,n_estimators=50)\n",
    "'''\n",
    "bag=BaggingClassifier(RandomForestClassifier(criterion = \"gini\", \n",
    "                                       min_samples_leaf = 1, \n",
    "                                       min_samples_split = 10,   \n",
    "                                       n_estimators=100, \n",
    "                                       max_features='auto', \n",
    "                                       oob_score=True, \n",
    "                                       random_state=1, \n",
    "                                       n_jobs=-1),max_samples=0.3, max_features=0.7,n_estimators=50)\n",
    "'''\n",
    "#bag=BaggingClassifier(DecisionTreeClassifier(criterion='gini', splitter='best', max_depth=5, min_samples_split=2, min_samples_leaf=1),max_samples=0.3, max_features=0.7,n_estimators=50)\n",
    "\n",
    "#bag=BaggingClassifier(KNeighborsClassifier(),max_samples=0.3, max_features=0.7)\n",
    "bag.fit(X,y)\n",
    "scr=cross_val_score(bag,X,y,cv=10,scoring='f1')\n",
    "avg_scr=scr.sum()/10\n",
    "print(F\"F1 Score is { scr }\")\n",
    "print(F\"Average score is { avg_scr }\")"
   ]
  },
  {
   "cell_type": "markdown",
   "metadata": {},
   "source": [
    "# Boosting performed with DecisionTree as base_estimator"
   ]
  },
  {
   "cell_type": "code",
   "execution_count": null,
   "metadata": {},
   "outputs": [],
   "source": [
    "#Adaboost \n",
    "\n",
    "clf = AdaBoostClassifier(base_estimator=DecisionTreeClassifier(criterion='gini', splitter='best', max_depth=5, min_samples_split=2, min_samples_leaf=1),n_estimators=100)\n",
    "scr=cross_val_score(clf,X,y,cv=10,scoring='recall')\n",
    "avg_scr=scr.sum()/10\n",
    "print(F\"F1 Score is { scr }\")\n",
    "print(F\"Average score is { avg_scr }\")"
   ]
  },
  {
   "cell_type": "markdown",
   "metadata": {},
   "source": [
    "# Voting Classifier with list of estimators KNeighborsClassifier, RandomForestClassifier, GaussianNB,DecisionTreeClassifier,MLPClassifier"
   ]
  },
  {
   "cell_type": "code",
   "execution_count": null,
   "metadata": {},
   "outputs": [],
   "source": [
    "# Voting classifier\n",
    "\n",
    "eclf = VotingClassifier(estimators=[('knn', knn), ('rf', rf), ('gnb', gnb),('dt',dt),('mlpc',mlpc)], voting='hard')\n",
    "eclf.fit(X,y)\n",
    "scr=cross_val_score(eclf,X,y,cv=10,scoring='f1')\n",
    "avg_scr=scr.sum()/10\n",
    "print(F\"F1 Score is { scr }\")\n",
    "print(F\"Average score is { avg_scr }\")"
   ]
  },
  {
   "cell_type": "markdown",
   "metadata": {},
   "source": [
    "After Evaluation of above models it is seen that max average score of f1 is from Voting classifier and hence we will use the same model for our prediction on test data"
   ]
  }
 ],
 "metadata": {
  "kernelspec": {
   "display_name": "Python 3",
   "language": "python",
   "name": "python3"
  },
  "language_info": {
   "codemirror_mode": {
    "name": "ipython",
    "version": 3
   },
   "file_extension": ".py",
   "mimetype": "text/x-python",
   "name": "python",
   "nbconvert_exporter": "python",
   "pygments_lexer": "ipython3",
   "version": "3.7.3"
  }
 },
 "nbformat": 4,
 "nbformat_minor": 2
}
