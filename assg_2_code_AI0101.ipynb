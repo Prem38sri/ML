{
  "nbformat": 4,
  "nbformat_minor": 0,
  "metadata": {
    "colab": {
      "name": "assg_2_code_AI0101.ipynb",
      "version": "0.3.2",
      "provenance": []
    },
    "kernelspec": {
      "name": "python3",
      "display_name": "Python 3"
    },
    "accelerator": "GPU"
  },
  "cells": [
    {
      "cell_type": "code",
      "metadata": {
        "id": "vEdngks-vOST",
        "colab_type": "code",
        "colab": {}
      },
      "source": [
        "#import library and load given feature and labels\n",
        "from keras.models import Sequential\n",
        "from keras.layers import Dense, Dropout, Flatten\n",
        "from keras.layers import Conv2D, MaxPooling2D\n",
        "import keras.utils\n",
        "import numpy as np\n"
      ],
      "execution_count": 0,
      "outputs": []
    },
    {
      "cell_type": "markdown",
      "metadata": {
        "id": "z_aEm6BCC1KE",
        "colab_type": "text"
      },
      "source": [
        ""
      ]
    },
    {
      "cell_type": "code",
      "metadata": {
        "id": "NhwZAly8yiie",
        "colab_type": "code",
        "colab": {
          "base_uri": "https://localhost:8080/",
          "height": 34
        },
        "outputId": "70576add-03f1-4e0d-a56f-c333d0625a50"
      },
      "source": [
        "#import traiing and testing data from google drive\n",
        "\n",
        "from google.colab import drive\n",
        "drive.mount('/content/gdrive')\n",
        "\n",
        "X_train = np.load('/content/gdrive/My Drive/datasets/training_data.npy')\n",
        "Y_train = np.load('/content/gdrive/My Drive/datasets/training_label.npy')\n",
        "X_test = np.load('/content/gdrive/My Drive/datasets/testing_data.npy')\n",
        "\n"
      ],
      "execution_count": 3,
      "outputs": [
        {
          "output_type": "stream",
          "text": [
            "Drive already mounted at /content/gdrive; to attempt to forcibly remount, call drive.mount(\"/content/gdrive\", force_remount=True).\n"
          ],
          "name": "stdout"
        }
      ]
    },
    {
      "cell_type": "code",
      "metadata": {
        "id": "EWdepYT3vVbJ",
        "colab_type": "code",
        "colab": {
          "base_uri": "https://localhost:8080/",
          "height": 101
        },
        "outputId": "6baf79a4-a1ab-4870-e898-cb6538c16ea9"
      },
      "source": [
        "#preprocess steps\n",
        "\n",
        "print(X_train.shape)\n",
        "print(Y_train.shape)\n",
        "print(X_test.shape)\n",
        "print(np.max(X_train))\n",
        "print(np.min(X_train))\n"
      ],
      "execution_count": 4,
      "outputs": [
        {
          "output_type": "stream",
          "text": [
            "(60000, 28, 28, 1)\n",
            "(60000,)\n",
            "(10000, 28, 28, 1)\n",
            "1.0\n",
            "0.0\n"
          ],
          "name": "stdout"
        }
      ]
    },
    {
      "cell_type": "code",
      "metadata": {
        "id": "9gaqKvbsvbGn",
        "colab_type": "code",
        "colab": {
          "base_uri": "https://localhost:8080/",
          "height": 185
        },
        "outputId": "d5f5350f-da34-4a11-e3ba-46fd8539b3c7"
      },
      "source": [
        "rows, cols = 28,28\n",
        "\n",
        "# data preprocessing\n",
        "\n",
        "X_train = X_train.astype('float32')\n",
        "X_test = X_test.astype('float32')\n",
        "\n",
        "\n",
        "print('X_train shape:', X_train.shape)\n",
        "print('X_test shape:', X_test.shape)\n",
        "print(X_train.shape[0], 'training samples')\n",
        "print(X_test.shape[0], 'test samples')\n",
        "\n",
        "input_shape = (28,28,1)\n",
        "num_classes = 10 # number of classess for classification \n",
        "\n",
        "print(\"Trining Label in before one hot encoding\")\n",
        "print (Y_train.shape)\n",
        "print (Y_train[0])\n",
        "\n",
        "#Convert class vectors to binary class matrices\n",
        "Y_train = keras.utils.to_categorical(Y_train, num_classes)\n",
        "\n",
        "print(\"Trining Label in after one hot encoding\")\n",
        "print (Y_train.shape)\n",
        "print (Y_train[0])\n"
      ],
      "execution_count": 5,
      "outputs": [
        {
          "output_type": "stream",
          "text": [
            "X_train shape: (60000, 28, 28, 1)\n",
            "X_test shape: (10000, 28, 28, 1)\n",
            "60000 training samples\n",
            "10000 test samples\n",
            "Trining Label in before one hot encoding\n",
            "(60000,)\n",
            "9\n",
            "Trining Label in after one hot encoding\n",
            "(60000, 10)\n",
            "[0. 0. 0. 0. 0. 0. 0. 0. 0. 1.]\n"
          ],
          "name": "stdout"
        }
      ]
    },
    {
      "cell_type": "code",
      "metadata": {
        "id": "e0viNe7mwGMn",
        "colab_type": "code",
        "colab": {}
      },
      "source": [
        "#CNN arch\n",
        "\n",
        "model = Sequential()\n",
        "\n",
        "model.add(Conv2D(32, kernel_size=(3, 3),activation='relu',input_shape=input_shape))\n",
        "model.add(Conv2D(64, (3, 3), activation='relu'))\n",
        "model.add(MaxPooling2D(pool_size=(2, 2)))\n",
        "model.add(Dropout(0.25))\n",
        "model.add(Flatten())\n",
        "model.add(Dense(128, activation='relu'))\n",
        "model.add(Dropout(0.5))\n",
        "model.add(Dense(num_classes, activation='softmax'))\n"
      ],
      "execution_count": 0,
      "outputs": []
    },
    {
      "cell_type": "code",
      "metadata": {
        "id": "9_SrM_KawZJT",
        "colab_type": "code",
        "colab": {}
      },
      "source": [
        "#Compile model with optimiser Adadelt\n",
        "\n",
        "model.compile(loss=keras.losses.categorical_crossentropy, optimizer=keras.optimizers.Adadelta(), metrics=['accuracy'])\n"
      ],
      "execution_count": 0,
      "outputs": []
    },
    {
      "cell_type": "code",
      "metadata": {
        "id": "mtp8cBeDweHB",
        "colab_type": "code",
        "colab": {
          "base_uri": "https://localhost:8080/",
          "height": 538
        },
        "outputId": "a4d5a5e0-02ff-4625-d17d-fde4d156f48c"
      },
      "source": [
        "batch_size = 256\n",
        "epochs = 15\n",
        "\n",
        "# taining the network\n",
        "\n",
        "history=model.fit(X_train, Y_train, batch_size=batch_size, epochs=epochs, verbose=1, validation_split=0.2)\n"
      ],
      "execution_count": 11,
      "outputs": [
        {
          "output_type": "stream",
          "text": [
            "Train on 48000 samples, validate on 12000 samples\n",
            "Epoch 1/15\n",
            "48000/48000 [==============================] - 7s 140us/step - loss: 0.6945 - acc: 0.7570 - val_loss: 0.3995 - val_acc: 0.8521\n",
            "Epoch 2/15\n",
            "48000/48000 [==============================] - 6s 123us/step - loss: 0.4146 - acc: 0.8527 - val_loss: 0.3351 - val_acc: 0.8773\n",
            "Epoch 3/15\n",
            "48000/48000 [==============================] - 6s 122us/step - loss: 0.3615 - acc: 0.8718 - val_loss: 0.3440 - val_acc: 0.8798\n",
            "Epoch 4/15\n",
            "48000/48000 [==============================] - 6s 122us/step - loss: 0.3280 - acc: 0.8824 - val_loss: 0.2903 - val_acc: 0.8942\n",
            "Epoch 5/15\n",
            "48000/48000 [==============================] - 6s 122us/step - loss: 0.3067 - acc: 0.8900 - val_loss: 0.2963 - val_acc: 0.8923\n",
            "Epoch 6/15\n",
            "48000/48000 [==============================] - 6s 122us/step - loss: 0.2882 - acc: 0.8969 - val_loss: 0.2609 - val_acc: 0.9020\n",
            "Epoch 7/15\n",
            "48000/48000 [==============================] - 6s 122us/step - loss: 0.2704 - acc: 0.9029 - val_loss: 0.2520 - val_acc: 0.9070\n",
            "Epoch 8/15\n",
            "48000/48000 [==============================] - 6s 124us/step - loss: 0.2559 - acc: 0.9078 - val_loss: 0.2620 - val_acc: 0.9033\n",
            "Epoch 9/15\n",
            "48000/48000 [==============================] - 6s 125us/step - loss: 0.2444 - acc: 0.9120 - val_loss: 0.2364 - val_acc: 0.9112\n",
            "Epoch 10/15\n",
            "48000/48000 [==============================] - 6s 124us/step - loss: 0.2340 - acc: 0.9160 - val_loss: 0.2339 - val_acc: 0.9140\n",
            "Epoch 11/15\n",
            "48000/48000 [==============================] - 6s 123us/step - loss: 0.2219 - acc: 0.9192 - val_loss: 0.2362 - val_acc: 0.9124\n",
            "Epoch 12/15\n",
            "48000/48000 [==============================] - 6s 122us/step - loss: 0.2150 - acc: 0.9215 - val_loss: 0.2300 - val_acc: 0.9162\n",
            "Epoch 13/15\n",
            "48000/48000 [==============================] - 6s 122us/step - loss: 0.2014 - acc: 0.9274 - val_loss: 0.2181 - val_acc: 0.9202\n",
            "Epoch 14/15\n",
            "48000/48000 [==============================] - 6s 122us/step - loss: 0.1922 - acc: 0.9287 - val_loss: 0.2346 - val_acc: 0.9167\n",
            "Epoch 15/15\n",
            "48000/48000 [==============================] - 6s 124us/step - loss: 0.1849 - acc: 0.9325 - val_loss: 0.2479 - val_acc: 0.9101\n"
          ],
          "name": "stdout"
        }
      ]
    },
    {
      "cell_type": "code",
      "metadata": {
        "id": "99h8dJBIwidy",
        "colab_type": "code",
        "colab": {
          "base_uri": "https://localhost:8080/",
          "height": 34
        },
        "outputId": "389b589d-e62b-429d-dc29-9f3c7ac845a4"
      },
      "source": [
        "#printing metrices\n",
        "print (model.metrics_names)"
      ],
      "execution_count": 12,
      "outputs": [
        {
          "output_type": "stream",
          "text": [
            "['loss', 'acc']\n"
          ],
          "name": "stdout"
        }
      ]
    },
    {
      "cell_type": "code",
      "metadata": {
        "id": "FIqfomA2w9CU",
        "colab_type": "code",
        "colab": {
          "base_uri": "https://localhost:8080/",
          "height": 420
        },
        "outputId": "f5618d99-8728-4cd5-9a59-434ed7289e5e"
      },
      "source": [
        "# print model summary\n",
        "print(model.summary())"
      ],
      "execution_count": 13,
      "outputs": [
        {
          "output_type": "stream",
          "text": [
            "_________________________________________________________________\n",
            "Layer (type)                 Output Shape              Param #   \n",
            "=================================================================\n",
            "conv2d_3 (Conv2D)            (None, 26, 26, 32)        320       \n",
            "_________________________________________________________________\n",
            "conv2d_4 (Conv2D)            (None, 24, 24, 64)        18496     \n",
            "_________________________________________________________________\n",
            "max_pooling2d_2 (MaxPooling2 (None, 12, 12, 64)        0         \n",
            "_________________________________________________________________\n",
            "dropout_3 (Dropout)          (None, 12, 12, 64)        0         \n",
            "_________________________________________________________________\n",
            "flatten_2 (Flatten)          (None, 9216)              0         \n",
            "_________________________________________________________________\n",
            "dense_3 (Dense)              (None, 128)               1179776   \n",
            "_________________________________________________________________\n",
            "dropout_4 (Dropout)          (None, 128)               0         \n",
            "_________________________________________________________________\n",
            "dense_4 (Dense)              (None, 10)                1290      \n",
            "=================================================================\n",
            "Total params: 1,199,882\n",
            "Trainable params: 1,199,882\n",
            "Non-trainable params: 0\n",
            "_________________________________________________________________\n",
            "None\n"
          ],
          "name": "stdout"
        }
      ]
    },
    {
      "cell_type": "code",
      "metadata": {
        "id": "OSV0c68IxApI",
        "colab_type": "code",
        "colab": {
          "base_uri": "https://localhost:8080/",
          "height": 590
        },
        "outputId": "7508e8e8-e69b-43f1-e39c-c5a29a4e8546"
      },
      "source": [
        "# to visualize the performance with plots...plot loss and accuracy in training and validation \n",
        "import matplotlib.pyplot as plt\n",
        "# list all data in history\n",
        "print(history.history.keys())\n",
        "# summarize history for accuracy\n",
        "plt.plot(history.history['acc'])\n",
        "plt.plot(history.history['val_acc'])\n",
        "plt.title('model accuracy')\n",
        "plt.ylabel('accuracy')\n",
        "plt.xlabel('epoch')\n",
        "plt.legend(['training', 'validation'], loc='center right')\n",
        "plt.show()\n",
        "# summarize history for loss\n",
        "plt.plot(history.history['loss'])\n",
        "plt.plot(history.history['val_loss'])\n",
        "plt.title('model loss')\n",
        "plt.ylabel('loss')\n",
        "plt.xlabel('epoch')\n",
        "plt.legend(['training', 'validation'], loc='upper right')\n",
        "plt.show()"
      ],
      "execution_count": 14,
      "outputs": [
        {
          "output_type": "stream",
          "text": [
            "dict_keys(['val_loss', 'val_acc', 'loss', 'acc'])\n"
          ],
          "name": "stdout"
        },
        {
          "output_type": "display_data",
          "data": {
            "image/png": "[encoded data removed]",
            "text/plain": [
              "<Figure size 432x288 with 1 Axes>"
            ]
          },
          "metadata": {
            "tags": []
          }
        },
        {
          "output_type": "display_data",
          "data": {
            "image/png": "[encoded data removed]",
            "text/plain": [
              "<Figure size 432x288 with 1 Axes>"
            ]
          },
          "metadata": {
            "tags": []
          }
        }
      ]
    },
    {
      "cell_type": "code",
      "metadata": {
        "id": "9lNALWfkxD-g",
        "colab_type": "code",
        "colab": {}
      },
      "source": [
        "#predict ,conver to numeric and save the ouput\n",
        "pred=model.predict(X_test)\n",
        "numeric_class=np.argmax(pred,axis=1)\n",
        "np.save('/content/gdrive/My Drive/docs/labels_1_2_AI0101.npy',numeric_class)"
      ],
      "execution_count": 0,
      "outputs": []
    },
    {
      "cell_type": "code",
      "metadata": {
        "id": "7Ybr_DuWxVki",
        "colab_type": "code",
        "colab": {}
      },
      "source": [
        "#save model\n",
        "model.save('/content/gdrive/My Drive/docs/assg_2_model_AI0101.h5')"
      ],
      "execution_count": 0,
      "outputs": []
    },
    {
      "cell_type": "code",
      "metadata": {
        "id": "6dEvfKljCn4d",
        "colab_type": "code",
        "colab": {}
      },
      "source": [
        ""
      ],
      "execution_count": 0,
      "outputs": []
    }
  ]
}