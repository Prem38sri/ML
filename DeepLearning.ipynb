{
 "cells": [
  {
   "cell_type": "code",
   "execution_count": 1,
   "metadata": {},
   "outputs": [
    {
     "name": "stderr",
     "output_type": "stream",
     "text": [
      "Using TensorFlow backend.\n"
     ]
    }
   ],
   "source": [
    "import numpy as np\n",
    "import pandas as pd\n",
    "import tensorflow as tf\n",
    "import keras\n",
    "from keras.models import Sequential\n",
    "from keras.layers.core import Dense, Activation, Dropout\n",
    "from keras.utils import np_utils\n",
    "import warnings\n",
    "warnings.filterwarnings('ignore')\n",
    "import io\n",
    "from sklearn.preprocessing import  MinMaxScaler"
   ]
  },
  {
   "cell_type": "code",
   "execution_count": 2,
   "metadata": {},
   "outputs": [],
   "source": [
    "training_data = np.load('C:/Users/user/Downloads/data_assg01/training_data.npy')\n",
    "test_data = np.load('C:/Users/user/Downloads/data_assg01/test_no_label.npy')\n"
   ]
  },
  {
   "cell_type": "code",
   "execution_count": 3,
   "metadata": {},
   "outputs": [],
   "source": [
    "sc= MinMaxScaler(feature_range=(-1,1))\n",
    "X= training_data[0].reshape(-1,1)\n",
    "X= sc.fit_transform(X)\n",
    "\n",
    "Y=test_data.reshape(-1,1)\n",
    "Y=sc.fit_transform(Y)"
   ]
  },
  {
   "cell_type": "code",
   "execution_count": 12,
   "metadata": {},
   "outputs": [],
   "source": [
    "def build_model():\n",
    "    model = keras.Sequential()\n",
    "    model.add(Dense(8,input_shape=(1,)))\n",
    "    model.add(Activation('tanh'))\n",
    "    model.add(Dense(8))\n",
    "    model.add(Activation('tanh'))\n",
    "    model.add(Dense(4))\n",
    "    model.add(Activation('tanh'))\n",
    "    model.add(Dense(1))\n",
    "    \n",
    "\n",
    "    \n",
    "    optimiser = keras.optimizers.adam(lr=0.005)\n",
    "    model.compile(optimizer=optimiser,loss='mean_squared_error',metrics=['mse'])\n",
    "    \n",
    "    return model"
   ]
  },
  {
   "cell_type": "code",
   "execution_count": 13,
   "metadata": {},
   "outputs": [],
   "source": [
    "model = build_model()"
   ]
  },
  {
   "cell_type": "code",
   "execution_count": 14,
   "metadata": {},
   "outputs": [],
   "source": [
    "EPOCHS = 50"
   ]
  },
  {
   "cell_type": "code",
   "execution_count": 15,
   "metadata": {},
   "outputs": [
    {
     "name": "stdout",
     "output_type": "stream",
     "text": [
      "Train on 800000 samples, validate on 200000 samples\n",
      "Epoch 1/50\n",
      " - 1s - loss: 0.5135 - mean_squared_error: 0.5135 - val_loss: 0.4945 - val_mean_squared_error: 0.4945\n",
      "Epoch 2/50\n",
      " - 0s - loss: 0.4955 - mean_squared_error: 0.4955 - val_loss: 0.4944 - val_mean_squared_error: 0.4944\n",
      "Epoch 3/50\n",
      " - 0s - loss: 0.4955 - mean_squared_error: 0.4955 - val_loss: 0.4944 - val_mean_squared_error: 0.4944\n",
      "Epoch 4/50\n",
      " - 0s - loss: 0.4955 - mean_squared_error: 0.4955 - val_loss: 0.4944 - val_mean_squared_error: 0.4944\n",
      "Epoch 5/50\n",
      " - 0s - loss: 0.4956 - mean_squared_error: 0.4956 - val_loss: 0.4945 - val_mean_squared_error: 0.4945\n",
      "Epoch 6/50\n",
      " - 0s - loss: 0.4956 - mean_squared_error: 0.4956 - val_loss: 0.4946 - val_mean_squared_error: 0.4946\n",
      "Epoch 7/50\n",
      " - 0s - loss: 0.4956 - mean_squared_error: 0.4956 - val_loss: 0.4945 - val_mean_squared_error: 0.4945\n",
      "Epoch 8/50\n",
      " - 0s - loss: 0.4956 - mean_squared_error: 0.4956 - val_loss: 0.4944 - val_mean_squared_error: 0.4944\n",
      "Epoch 9/50\n",
      " - 0s - loss: 0.4955 - mean_squared_error: 0.4955 - val_loss: 0.4946 - val_mean_squared_error: 0.4946\n",
      "Epoch 10/50\n",
      " - 0s - loss: 0.4956 - mean_squared_error: 0.4956 - val_loss: 0.4945 - val_mean_squared_error: 0.4945\n",
      "Epoch 11/50\n",
      " - 0s - loss: 0.4955 - mean_squared_error: 0.4955 - val_loss: 0.4946 - val_mean_squared_error: 0.4946\n",
      "Epoch 12/50\n",
      " - 0s - loss: 0.4955 - mean_squared_error: 0.4955 - val_loss: 0.4944 - val_mean_squared_error: 0.4944\n",
      "Epoch 13/50\n",
      " - 0s - loss: 0.4955 - mean_squared_error: 0.4955 - val_loss: 0.4945 - val_mean_squared_error: 0.4945\n",
      "Epoch 14/50\n",
      " - 0s - loss: 0.4955 - mean_squared_error: 0.4955 - val_loss: 0.4945 - val_mean_squared_error: 0.4945\n",
      "Epoch 15/50\n",
      " - 0s - loss: 0.4955 - mean_squared_error: 0.4955 - val_loss: 0.4945 - val_mean_squared_error: 0.4945\n",
      "Epoch 16/50\n",
      " - 0s - loss: 0.4955 - mean_squared_error: 0.4955 - val_loss: 0.4945 - val_mean_squared_error: 0.4945\n",
      "Epoch 17/50\n",
      " - 0s - loss: 0.4955 - mean_squared_error: 0.4955 - val_loss: 0.4945 - val_mean_squared_error: 0.4945\n",
      "Epoch 18/50\n",
      " - 0s - loss: 0.4955 - mean_squared_error: 0.4955 - val_loss: 0.4944 - val_mean_squared_error: 0.4944\n",
      "Epoch 19/50\n",
      " - 0s - loss: 0.4955 - mean_squared_error: 0.4955 - val_loss: 0.4945 - val_mean_squared_error: 0.4945\n",
      "Epoch 20/50\n",
      " - 0s - loss: 0.4955 - mean_squared_error: 0.4955 - val_loss: 0.4944 - val_mean_squared_error: 0.4944\n",
      "Epoch 21/50\n",
      " - 1s - loss: 0.4956 - mean_squared_error: 0.4956 - val_loss: 0.4945 - val_mean_squared_error: 0.4945\n",
      "Epoch 22/50\n",
      " - 1s - loss: 0.4955 - mean_squared_error: 0.4955 - val_loss: 0.4945 - val_mean_squared_error: 0.4945\n",
      "Epoch 23/50\n",
      " - 0s - loss: 0.4956 - mean_squared_error: 0.4956 - val_loss: 0.4944 - val_mean_squared_error: 0.4944\n",
      "Epoch 24/50\n",
      " - 0s - loss: 0.4955 - mean_squared_error: 0.4955 - val_loss: 0.4945 - val_mean_squared_error: 0.4945\n",
      "Epoch 25/50\n",
      " - 1s - loss: 0.4955 - mean_squared_error: 0.4955 - val_loss: 0.4947 - val_mean_squared_error: 0.4947\n",
      "Epoch 26/50\n",
      " - 0s - loss: 0.4955 - mean_squared_error: 0.4955 - val_loss: 0.4944 - val_mean_squared_error: 0.4944\n",
      "Epoch 27/50\n",
      " - 0s - loss: 0.4955 - mean_squared_error: 0.4955 - val_loss: 0.4944 - val_mean_squared_error: 0.4944\n",
      "Epoch 28/50\n",
      " - 0s - loss: 0.4956 - mean_squared_error: 0.4956 - val_loss: 0.4945 - val_mean_squared_error: 0.4945\n",
      "Epoch 29/50\n",
      " - 0s - loss: 0.4955 - mean_squared_error: 0.4955 - val_loss: 0.4945 - val_mean_squared_error: 0.4945\n",
      "Epoch 30/50\n",
      " - 0s - loss: 0.4955 - mean_squared_error: 0.4955 - val_loss: 0.4944 - val_mean_squared_error: 0.4944\n",
      "Epoch 31/50\n",
      " - 0s - loss: 0.4955 - mean_squared_error: 0.4955 - val_loss: 0.4946 - val_mean_squared_error: 0.4946\n",
      "Epoch 32/50\n",
      " - 0s - loss: 0.4955 - mean_squared_error: 0.4955 - val_loss: 0.4944 - val_mean_squared_error: 0.4944\n",
      "Epoch 33/50\n",
      " - 0s - loss: 0.4955 - mean_squared_error: 0.4955 - val_loss: 0.4945 - val_mean_squared_error: 0.4945\n",
      "Epoch 34/50\n",
      " - 0s - loss: 0.4955 - mean_squared_error: 0.4955 - val_loss: 0.4945 - val_mean_squared_error: 0.4945\n",
      "Epoch 35/50\n",
      " - 0s - loss: 0.4955 - mean_squared_error: 0.4955 - val_loss: 0.4944 - val_mean_squared_error: 0.4944\n",
      "Epoch 36/50\n",
      " - 0s - loss: 0.4955 - mean_squared_error: 0.4955 - val_loss: 0.4945 - val_mean_squared_error: 0.4945\n",
      "Epoch 37/50\n",
      " - 0s - loss: 0.4955 - mean_squared_error: 0.4955 - val_loss: 0.4949 - val_mean_squared_error: 0.4949\n",
      "Epoch 38/50\n",
      " - 0s - loss: 0.4955 - mean_squared_error: 0.4955 - val_loss: 0.4945 - val_mean_squared_error: 0.4945\n",
      "Epoch 39/50\n",
      " - 0s - loss: 0.4955 - mean_squared_error: 0.4955 - val_loss: 0.4944 - val_mean_squared_error: 0.4944\n",
      "Epoch 40/50\n",
      " - 0s - loss: 0.4955 - mean_squared_error: 0.4955 - val_loss: 0.4944 - val_mean_squared_error: 0.4944\n",
      "Epoch 41/50\n",
      " - 0s - loss: 0.4955 - mean_squared_error: 0.4955 - val_loss: 0.4945 - val_mean_squared_error: 0.4945\n",
      "Epoch 42/50\n",
      " - 0s - loss: 0.4955 - mean_squared_error: 0.4955 - val_loss: 0.4944 - val_mean_squared_error: 0.4944\n",
      "Epoch 43/50\n",
      " - 0s - loss: 0.4955 - mean_squared_error: 0.4955 - val_loss: 0.4945 - val_mean_squared_error: 0.4945\n",
      "Epoch 44/50\n",
      " - 0s - loss: 0.4955 - mean_squared_error: 0.4955 - val_loss: 0.4944 - val_mean_squared_error: 0.4944\n",
      "Epoch 45/50\n",
      " - 0s - loss: 0.4955 - mean_squared_error: 0.4955 - val_loss: 0.4944 - val_mean_squared_error: 0.4944\n",
      "Epoch 46/50\n",
      " - 0s - loss: 0.4955 - mean_squared_error: 0.4955 - val_loss: 0.4944 - val_mean_squared_error: 0.4944\n",
      "Epoch 47/50\n",
      " - 0s - loss: 0.4955 - mean_squared_error: 0.4955 - val_loss: 0.4944 - val_mean_squared_error: 0.4944\n",
      "Epoch 48/50\n",
      " - 0s - loss: 0.4955 - mean_squared_error: 0.4955 - val_loss: 0.4944 - val_mean_squared_error: 0.4944\n",
      "Epoch 49/50\n",
      " - 0s - loss: 0.4955 - mean_squared_error: 0.4955 - val_loss: 0.4944 - val_mean_squared_error: 0.4944\n",
      "Epoch 50/50\n",
      " - 0s - loss: 0.4955 - mean_squared_error: 0.4955 - val_loss: 0.4944 - val_mean_squared_error: 0.4944\n"
     ]
    },
    {
     "data": {
      "text/plain": [
       "<keras.callbacks.History at 0x218deb530b8>"
      ]
     },
     "execution_count": 15,
     "metadata": {},
     "output_type": "execute_result"
    }
   ],
   "source": [
    "model.fit(X, training_data[1],batch_size=10000,epochs=EPOCHS, validation_split = 0.2, verbose=2)"
   ]
  },
  {
   "cell_type": "code",
   "execution_count": 16,
   "metadata": {},
   "outputs": [],
   "source": [
    "test_pred = model.predict(Y)"
   ]
  },
  {
   "cell_type": "code",
   "execution_count": 17,
   "metadata": {},
   "outputs": [
    {
     "data": {
      "text/plain": [
       "array([[ 0.00639251],\n",
       "       [ 0.00088214],\n",
       "       [ 0.0037415 ],\n",
       "       [ 0.0020034 ],\n",
       "       [-0.00654913],\n",
       "       [-0.00024772],\n",
       "       [-0.00861488],\n",
       "       [-0.00257313],\n",
       "       [-0.00165918],\n",
       "       [-0.00670523]], dtype=float32)"
      ]
     },
     "execution_count": 17,
     "metadata": {},
     "output_type": "execute_result"
    }
   ],
   "source": [
    "test_pred[0:10]"
   ]
  },
  {
   "cell_type": "code",
   "execution_count": 19,
   "metadata": {},
   "outputs": [
    {
     "data": {
      "text/plain": [
       "0.006907882"
      ]
     },
     "execution_count": 19,
     "metadata": {},
     "output_type": "execute_result"
    }
   ],
   "source": [
    "test_pred.max()"
   ]
  },
  {
   "cell_type": "code",
   "execution_count": null,
   "metadata": {},
   "outputs": [],
   "source": [
    "test_data[0:10]"
   ]
  },
  {
   "cell_type": "code",
   "execution_count": 25,
   "metadata": {},
   "outputs": [],
   "source": [
    "with open('C:/Users/user/Downloads/data_assg01/test_label.npy',\"wb+\") as outfile:\n",
    "    np.save(outfile,test_pred)\n"
   ]
  },
  {
   "cell_type": "code",
   "execution_count": null,
   "metadata": {},
   "outputs": [],
   "source": []
  }
 ],
 "metadata": {
  "kernelspec": {
   "display_name": "Python 3",
   "language": "python",
   "name": "python3"
  },
  "language_info": {
   "codemirror_mode": {
    "name": "ipython",
    "version": 3
   },
   "file_extension": ".py",
   "mimetype": "text/x-python",
   "name": "python",
   "nbconvert_exporter": "python",
   "pygments_lexer": "ipython3",
   "version": "3.7.3"
  }
 },
 "nbformat": 4,
 "nbformat_minor": 2
}
