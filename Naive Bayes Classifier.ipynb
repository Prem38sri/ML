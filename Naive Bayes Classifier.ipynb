{
 "cells": [
  {
   "cell_type": "code",
   "execution_count": 1,
   "metadata": {},
   "outputs": [],
   "source": [
    "with open(\"C:/Users/user/Downloads/Data3.csv\") as data:\n",
    "    data_value=data.readlines()"
   ]
  },
  {
   "cell_type": "code",
   "execution_count": 2,
   "metadata": {},
   "outputs": [],
   "source": [
    "list2=[]\n",
    "for i in range(0,len(data_value)):\n",
    "    list1=data_value[i].replace(\"\\n\",\"\")\n",
    "    list1=list1.split(',')\n",
    "    list2.append(list1)"
   ]
  },
  {
   "cell_type": "code",
   "execution_count": 3,
   "metadata": {},
   "outputs": [],
   "source": [
    "import numpy as np\n",
    "arr=np.array(list2)\n",
    "smoothing = 1\n",
    "class_count=len(np.unique(arr[:,-1]))"
   ]
  },
  {
   "cell_type": "code",
   "execution_count": 4,
   "metadata": {},
   "outputs": [],
   "source": [
    "def prob(label,arr1):\n",
    "    count=0\n",
    "    for i in arr1:\n",
    "        if int(i) == int(label):\n",
    "            count += 1\n",
    "    print(count)\n",
    "    prob = count / len(arr1)\n",
    "    return (prob)"
   ]
  },
  {
   "cell_type": "code",
   "execution_count": 5,
   "metadata": {},
   "outputs": [
    {
     "name": "stdout",
     "output_type": "stream",
     "text": [
      "7\n",
      "13\n"
     ]
    },
    {
     "data": {
      "text/plain": [
       "0.35"
      ]
     },
     "execution_count": 5,
     "metadata": {},
     "output_type": "execute_result"
    }
   ],
   "source": [
    "prior_prob_0=prob(0,arr[:,-1])\n",
    "prior_prob_1=prob(1,arr[:,-1])\n",
    "prior_prob_0"
   ]
  },
  {
   "cell_type": "code",
   "execution_count": 6,
   "metadata": {},
   "outputs": [],
   "source": [
    "def cond_prob(label,arr_feature,arr_label):\n",
    "    prob_arr=[]\n",
    "    for classes in (1,0):\n",
    "        count_feature = 0\n",
    "        count_label = 0\n",
    "        for a in range(0,len(arr_label)):\n",
    "            if int(arr_label[a])  == int(classes):\n",
    "                count_label +=1\n",
    "                #print(count_label)\n",
    "                if int(arr_feature[a]) == int(label):\n",
    "                    count_feature +=1\n",
    "                    #print(F\"counte feature is { count_feature }\")\n",
    "        prob = (count_feature + smoothing) / (count_label + class_count)\n",
    "        prob_arr.append(prob)\n",
    "    return prob_arr"
   ]
  },
  {
   "cell_type": "code",
   "execution_count": 7,
   "metadata": {},
   "outputs": [],
   "source": [
    "def inde_prob(i):\n",
    "    prob_arr=np.array([])\n",
    "    a=i\n",
    "    for item in range(0,len(a)):\n",
    "        result=cond_prob(a[item],arr[:,item],arr[:,-1])\n",
    "        prob_arr=np.append(prob_arr,result)\n",
    "        \n",
    "    prob_arr=prob_arr.reshape(8,2)\n",
    "    return prob_arr"
   ]
  },
  {
   "cell_type": "code",
   "execution_count": 8,
   "metadata": {},
   "outputs": [],
   "source": [
    "def score(array):\n",
    "    product = 1\n",
    "    for j in array:\n",
    "        product *= j\n",
    "    return product"
   ]
  },
  {
   "cell_type": "code",
   "execution_count": 16,
   "metadata": {},
   "outputs": [
    {
     "name": "stdout",
     "output_type": "stream",
     "text": [
      "1\n",
      "0\n",
      "1\n",
      "1\n"
     ]
    }
   ],
   "source": [
    "with open(\"C:/Users/user/Downloads/test3.csv\") as test:\n",
    "    test_value=test.readlines()\n",
    "#print(test_value[0])\n",
    "for i in range(0,len(test_value)):\n",
    "    test_value[i]=test_value[i].replace(\"\\n\",\"\")\n",
    "    test_value[i]=test_value[i].split(',')\n",
    "    #print(type(test_value[i]))\n",
    "    #list2.append(list1)\n",
    "    prob_arr=inde_prob(test_value[i])\n",
    "    score_1=score(prob_arr[:,0])\n",
    "    score_0=score(prob_arr[:,1])\n",
    "    prob_cond_score_1 = score_1 * prior_prob_1\n",
    "    prob_cond_score_0 = score_0 * prior_prob_0\n",
    "    #print(prob_cond_score_0)\n",
    "    [ print(1) if prob_cond_score_1 > prob_cond_score_0 else print(0)]"
   ]
  },
  {
   "cell_type": "code",
   "execution_count": 17,
   "metadata": {},
   "outputs": [
    {
     "name": "stdout",
     "output_type": "stream",
     "text": [
      "['0,1,1,1,1,1,1,1\\n', '1,0,0,0,0,0,0,0\\n', '0,1,1,0,1,0,0,0\\n', '0,1,1,1,1,0,0,0\\n']\n"
     ]
    }
   ],
   "source": [
    "with open(\"C:/Users/user/Downloads/test3.csv\") as test:\n",
    "    test_value=test.readlines()\n",
    "print(test_value)"
   ]
  },
  {
   "cell_type": "code",
   "execution_count": null,
   "metadata": {},
   "outputs": [],
   "source": [
    "prob_arr.shape[1]"
   ]
  }
 ],
 "metadata": {
  "kernelspec": {
   "display_name": "Python 3",
   "language": "python",
   "name": "python3"
  },
  "language_info": {
   "codemirror_mode": {
    "name": "ipython",
    "version": 3
   },
   "file_extension": ".py",
   "mimetype": "text/x-python",
   "name": "python",
   "nbconvert_exporter": "python",
   "pygments_lexer": "ipython3",
   "version": "3.7.3"
  }
 },
 "nbformat": 4,
 "nbformat_minor": 2
}
