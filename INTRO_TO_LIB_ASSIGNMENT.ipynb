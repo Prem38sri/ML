{
 "cells": [
  {
   "cell_type": "code",
   "execution_count": null,
   "metadata": {},
   "outputs": [],
   "source": [
    "import tensorflow as tf\n",
    "import numpy as np"
   ]
  },
  {
   "cell_type": "code",
   "execution_count": null,
   "metadata": {},
   "outputs": [],
   "source": [
    "#First approach\n",
    "X = tf.random_normal(shape=(2,3),mean=4,stddev=5,dtype=\"float32\")\n",
    "Y = tf.range(start=12,limit=154,delta=3,dtype=\"float32\")\n",
    "Y = tf.reshape(Y,shape=(8,2,3))\n",
    "Z = tf.add(Y,X)\n",
    "Z = tf.reshape(Z,[-1])\n",
    "\n",
    "with tf.Session() as sess:\n",
    "    print(sess.run(Z))"
   ]
  },
  {
   "cell_type": "code",
   "execution_count": null,
   "metadata": {},
   "outputs": [],
   "source": [
    "#Second Approach\n",
    "X = tf.random_normal(shape=(2,3),mean=4,stddev=5,dtype=\"float32\")\n",
    "Y = tf.range(start=12,limit=30,delta=3,dtype=\"float32\")\n",
    "Y = tf.reshape(Y,shape=(2,3))\n",
    "Z = tf.add(X,Y)\n",
    "with tf.Session() as sess:\n",
    "    print(sess.run(Z))"
   ]
  },
  {
   "cell_type": "code",
   "execution_count": null,
   "metadata": {},
   "outputs": [],
   "source": [
    "#Third Approach\n",
    "X = tf.random_normal(shape=(2,3),mean=4,stddev=5,dtype=tf.float32)\n",
    "Y = tf.placeholder(shape=(2,3),dtype=tf.float32)\n",
    "#Z = tf.add(X,Y)\n",
    "\n",
    "with tf.Session() as session:\n",
    "    seq = np.arange(12,151,3)\n",
    "    seq = np.resize(seq,(2,3))\n",
    "    Z = session.run(tf.add(X,Y), feed_dict={Y: seq})\n",
    "    print(Z)\n"
   ]
  },
  {
   "cell_type": "code",
   "execution_count": null,
   "metadata": {},
   "outputs": [],
   "source": [
    "W = tf.math.tanh(Z)\n",
    "T = tf.math.sigmoid(Z)\n",
    "with tf.Session() as session:\n",
    "    print(session.run(W))\n",
    "    print(session.run(T))"
   ]
  },
  {
   "cell_type": "code",
   "execution_count": 1,
   "metadata": {},
   "outputs": [
    {
     "name": "stderr",
     "output_type": "stream",
     "text": [
      "Using TensorFlow backend.\n"
     ]
    }
   ],
   "source": [
    "#5 MNIST Data\n",
    "\n",
    "import numpy as np\n",
    "import os\n",
    "from keras.datasets import mnist\n",
    "from keras.models import Sequential\n",
    "from keras.layers.core import Dense, Dropout, Activation\n",
    "from keras.optimizers import adagrad\n",
    "from keras.utils import np_utils"
   ]
  },
  {
   "cell_type": "code",
   "execution_count": 2,
   "metadata": {},
   "outputs": [],
   "source": [
    "np.random.seed(109)\n",
    "batch_size=100\n",
    "nb_classes=10\n",
    "nb_epoch=20\n",
    "\n",
    "(X_train, y_train), (X_test, y_test) = mnist.load_data()"
   ]
  },
  {
   "cell_type": "code",
   "execution_count": 3,
   "metadata": {},
   "outputs": [],
   "source": [
    "X_train = X_train.reshape(60000, 784) \n",
    "X_test = X_test.reshape(10000, 784)\n",
    "\n",
    "X_train = X_train.astype('float32')\n",
    "X_test = X_test.astype('float32')"
   ]
  },
  {
   "cell_type": "code",
   "execution_count": 4,
   "metadata": {},
   "outputs": [],
   "source": [
    "X_train = (X_train- np.mean(X_train))/np.std(X_train)\n",
    "X_test = (X_test- np.mean(X_test))/np.std(X_test)"
   ]
  },
  {
   "cell_type": "code",
   "execution_count": 5,
   "metadata": {},
   "outputs": [
    {
     "name": "stdout",
     "output_type": "stream",
     "text": [
      "(60000, 784) train samples\n",
      "(10000, 784) test samples\n"
     ]
    }
   ],
   "source": [
    "print(X_train.shape, 'train samples')\n",
    "print(X_test.shape, 'test samples')"
   ]
  },
  {
   "cell_type": "code",
   "execution_count": 6,
   "metadata": {},
   "outputs": [],
   "source": [
    "Y_train = np_utils.to_categorical(y_train, nb_classes)\n",
    "Y_test = np_utils.to_categorical(y_test, nb_classes)"
   ]
  },
  {
   "cell_type": "code",
   "execution_count": 7,
   "metadata": {},
   "outputs": [
    {
     "name": "stderr",
     "output_type": "stream",
     "text": [
      "WARNING: Logging before flag parsing goes to stderr.\n",
      "W0708 17:58:43.553762 33416 deprecation_wrapper.py:119] From C:\\Users\\user\\Anaconda3\\lib\\site-packages\\keras\\backend\\tensorflow_backend.py:74: The name tf.get_default_graph is deprecated. Please use tf.compat.v1.get_default_graph instead.\n",
      "\n",
      "W0708 17:58:43.572109 33416 deprecation_wrapper.py:119] From C:\\Users\\user\\Anaconda3\\lib\\site-packages\\keras\\backend\\tensorflow_backend.py:517: The name tf.placeholder is deprecated. Please use tf.compat.v1.placeholder instead.\n",
      "\n",
      "W0708 17:58:43.576099 33416 deprecation_wrapper.py:119] From C:\\Users\\user\\Anaconda3\\lib\\site-packages\\keras\\backend\\tensorflow_backend.py:4138: The name tf.random_uniform is deprecated. Please use tf.random.uniform instead.\n",
      "\n",
      "W0708 17:58:43.597790 33416 deprecation_wrapper.py:119] From C:\\Users\\user\\Anaconda3\\lib\\site-packages\\keras\\backend\\tensorflow_backend.py:133: The name tf.placeholder_with_default is deprecated. Please use tf.compat.v1.placeholder_with_default instead.\n",
      "\n",
      "W0708 17:58:43.607081 33416 deprecation.py:506] From C:\\Users\\user\\Anaconda3\\lib\\site-packages\\keras\\backend\\tensorflow_backend.py:3445: calling dropout (from tensorflow.python.ops.nn_ops) with keep_prob is deprecated and will be removed in a future version.\n",
      "Instructions for updating:\n",
      "Please use `rate` instead of `keep_prob`. Rate should be set to `rate = 1 - keep_prob`.\n"
     ]
    }
   ],
   "source": [
    "model = Sequential()\n",
    "model.add(Dense(512, input_shape=(784,)))\n",
    "model.add(Activation('relu'))\n",
    "model.add(Dropout(0.2)) # Regularization\n",
    "model.add(Dense(120))\n",
    "model.add(Activation('relu'))\n",
    "model.add(Dropout(0.2))\n",
    "model.add(Dense(10)) #Last layer with one output per class\n",
    "model.add(Activation('softmax')) #We want a score simlar to a probability for each class"
   ]
  },
  {
   "cell_type": "code",
   "execution_count": 8,
   "metadata": {},
   "outputs": [
    {
     "name": "stderr",
     "output_type": "stream",
     "text": [
      "W0708 17:58:45.554846 33416 deprecation_wrapper.py:119] From C:\\Users\\user\\Anaconda3\\lib\\site-packages\\keras\\optimizers.py:790: The name tf.train.Optimizer is deprecated. Please use tf.compat.v1.train.Optimizer instead.\n",
      "\n",
      "W0708 17:58:45.564217 33416 deprecation_wrapper.py:119] From C:\\Users\\user\\Anaconda3\\lib\\site-packages\\keras\\backend\\tensorflow_backend.py:3376: The name tf.log is deprecated. Please use tf.math.log instead.\n",
      "\n",
      "W0708 17:58:45.573101 33416 deprecation.py:323] From C:\\Users\\user\\Anaconda3\\lib\\site-packages\\tensorflow\\python\\ops\\nn_impl.py:180: add_dispatch_support.<locals>.wrapper (from tensorflow.python.ops.array_ops) is deprecated and will be removed in a future version.\n",
      "Instructions for updating:\n",
      "Use tf.where in 2.0, which has the same broadcast rule as np.where\n"
     ]
    }
   ],
   "source": [
    "adg = adagrad()\n",
    "model.compile(loss='binary_crossentropy', optimizer=adg, metrics=[\"accuracy\"])"
   ]
  },
  {
   "cell_type": "code",
   "execution_count": 9,
   "metadata": {},
   "outputs": [
    {
     "name": "stderr",
     "output_type": "stream",
     "text": [
      "C:\\Users\\user\\Anaconda3\\lib\\site-packages\\ipykernel_launcher.py:4: UserWarning: The `nb_epoch` argument in `fit` has been renamed `epochs`.\n",
      "  after removing the cwd from sys.path.\n"
     ]
    },
    {
     "name": "stdout",
     "output_type": "stream",
     "text": [
      "Train on 60000 samples, validate on 10000 samples\n",
      "Epoch 1/20\n",
      " - 9s - loss: 0.0639 - acc: 0.9822 - val_loss: 0.0211 - val_acc: 0.9928\n",
      "Epoch 2/20\n",
      " - 8s - loss: 0.0246 - acc: 0.9917 - val_loss: 0.0170 - val_acc: 0.9942\n",
      "Epoch 3/20\n",
      " - 8s - loss: 0.0186 - acc: 0.9938 - val_loss: 0.0142 - val_acc: 0.9953\n",
      "Epoch 4/20\n",
      " - 8s - loss: 0.0152 - acc: 0.9950 - val_loss: 0.0127 - val_acc: 0.9955\n",
      "Epoch 5/20\n",
      " - 8s - loss: 0.0129 - acc: 0.9957 - val_loss: 0.0118 - val_acc: 0.9959\n",
      "Epoch 6/20\n",
      " - 8s - loss: 0.0117 - acc: 0.9960 - val_loss: 0.0117 - val_acc: 0.9961\n",
      "Epoch 7/20\n",
      " - 8s - loss: 0.0105 - acc: 0.9966 - val_loss: 0.0111 - val_acc: 0.9963\n",
      "Epoch 8/20\n",
      " - 8s - loss: 0.0094 - acc: 0.9968 - val_loss: 0.0107 - val_acc: 0.9964\n",
      "Epoch 9/20\n",
      " - 8s - loss: 0.0086 - acc: 0.9972 - val_loss: 0.0102 - val_acc: 0.9966\n",
      "Epoch 10/20\n",
      " - 8s - loss: 0.0078 - acc: 0.9974 - val_loss: 0.0101 - val_acc: 0.9966\n",
      "Epoch 11/20\n",
      " - 8s - loss: 0.0071 - acc: 0.9976 - val_loss: 0.0097 - val_acc: 0.9966\n",
      "Epoch 12/20\n",
      " - 8s - loss: 0.0069 - acc: 0.9978 - val_loss: 0.0099 - val_acc: 0.9967\n",
      "Epoch 13/20\n",
      " - 8s - loss: 0.0061 - acc: 0.9979 - val_loss: 0.0095 - val_acc: 0.9969\n",
      "Epoch 14/20\n",
      " - 8s - loss: 0.0057 - acc: 0.9981 - val_loss: 0.0100 - val_acc: 0.9966\n",
      "Epoch 15/20\n",
      " - 8s - loss: 0.0055 - acc: 0.9982 - val_loss: 0.0098 - val_acc: 0.9967\n",
      "Epoch 16/20\n",
      " - 8s - loss: 0.0051 - acc: 0.9984 - val_loss: 0.0094 - val_acc: 0.9968\n",
      "Epoch 17/20\n",
      " - 8s - loss: 0.0047 - acc: 0.9985 - val_loss: 0.0095 - val_acc: 0.9968\n",
      "Epoch 18/20\n",
      " - 8s - loss: 0.0045 - acc: 0.9985 - val_loss: 0.0093 - val_acc: 0.9967\n",
      "Epoch 19/20\n",
      " - 8s - loss: 0.0042 - acc: 0.9986 - val_loss: 0.0097 - val_acc: 0.9969\n",
      "Epoch 20/20\n",
      " - 8s - loss: 0.0039 - acc: 0.9987 - val_loss: 0.0093 - val_acc: 0.9970\n"
     ]
    },
    {
     "data": {
      "text/plain": [
       "<keras.callbacks.History at 0x26d8b73d390>"
      ]
     },
     "execution_count": 9,
     "metadata": {},
     "output_type": "execute_result"
    }
   ],
   "source": [
    "model.fit(X_train, Y_train,\n",
    "batch_size=batch_size, nb_epoch=nb_epoch,\n",
    "verbose=2,\n",
    "validation_data=(X_test, Y_test))"
   ]
  },
  {
   "cell_type": "code",
   "execution_count": null,
   "metadata": {},
   "outputs": [],
   "source": []
  }
 ],
 "metadata": {
  "kernelspec": {
   "display_name": "Python 3",
   "language": "python",
   "name": "python3"
  },
  "language_info": {
   "codemirror_mode": {
    "name": "ipython",
    "version": 3
   },
   "file_extension": ".py",
   "mimetype": "text/x-python",
   "name": "python",
   "nbconvert_exporter": "python",
   "pygments_lexer": "ipython3",
   "version": "3.7.3"
  }
 },
 "nbformat": 4,
 "nbformat_minor": 2
}
